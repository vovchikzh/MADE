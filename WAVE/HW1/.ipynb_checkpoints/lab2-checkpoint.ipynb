{
 "cells": [
  {
   "cell_type": "markdown",
   "metadata": {},
   "source": [
    "# <center> Практические задания по цифровой обработке сигналов </center>\n",
    "# <center> Вторая лабораторная работа </center>\n",
    "# <center> Анализ сигналов </center>"
   ]
  },
  {
   "cell_type": "code",
   "execution_count": null,
   "metadata": {
    "executionInfo": {
     "elapsed": 977,
     "status": "ok",
     "timestamp": 1608701444546,
     "user": {
      "displayName": "Anton Mitrofanov",
      "photoUrl": "https://lh3.googleusercontent.com/a-/AOh14GjNBfbZfmzr7D1pQYvl6zK8SnRI1b9SfK--a0wgVg=s64",
      "userId": "16120628630126186431"
     },
     "user_tz": -180
    },
    "id": "mFDG9FMVENc6"
   },
   "outputs": [],
   "source": [
    "import librosa\n",
    "import numpy as np\n",
    "import scipy \n",
    "import scipy.fft\n",
    "import IPython.display as ipd\n",
    "import matplotlib.pyplot as plt\n",
    "import librosa.display\n",
    "import librosa.filters\n",
    "import hashlib\n",
    "\n",
    "# Запретим numpy выполнять деление на 0\n",
    "np.seterr(divide='raise', invalid='raise') \n",
    "%matplotlib inline"
   ]
  },
  {
   "cell_type": "code",
   "execution_count": null,
   "metadata": {},
   "outputs": [],
   "source": [
    "# Определим две функции для отрисовки сигнала. \n",
    "def draw_waveform(wav, sr, figsize=(14, 5)):\n",
    "    # Отрисовка звукового сигнала во временной области\n",
    "    plt.figure(figsize=figsize)\n",
    "    librosa.display.waveplot(wav, sr=sr)\n",
    "\n",
    "def draw_sig(frames, name=None, figsize=(14, 3)):\n",
    "    # Отрисовка сигнала в виде \"леденцов на палочке\"\n",
    "    plt.figure(figsize=figsize)\n",
    "    plt.stem(frames)\n",
    "    if name is not None:\n",
    "        plt.legend([name])\n",
    "    plt.xlabel(\"n\")\n",
    "    plt.ylabel(\"Energy\")\n",
    "    plt.show()\n",
    "    "
   ]
  },
  {
   "cell_type": "code",
   "execution_count": null,
   "metadata": {},
   "outputs": [],
   "source": [
    "# Создадим несколько простых сигналов. Они нам понадобятся для дальшейшего тестирования\n",
    "signals = {}"
   ]
  },
  {
   "cell_type": "code",
   "execution_count": null,
   "metadata": {
    "executionInfo": {
     "elapsed": 1082,
     "status": "ok",
     "timestamp": 1608703464936,
     "user": {
      "displayName": "Anton Mitrofanov",
      "photoUrl": "https://lh3.googleusercontent.com/a-/AOh14GjNBfbZfmzr7D1pQYvl6zK8SnRI1b9SfK--a0wgVg=s64",
      "userId": "16120628630126186431"
     },
     "user_tz": -180
    },
    "id": "lfwHaMgeKTET"
   },
   "outputs": [],
   "source": [
    "name = \"Единичный импульс\"\n",
    "signals[name] = np.array([1] + [0]*39, dtype=float)\n",
    "draw_sig(signals[name], name)"
   ]
  },
  {
   "cell_type": "code",
   "execution_count": null,
   "metadata": {
    "executionInfo": {
     "elapsed": 1082,
     "status": "ok",
     "timestamp": 1608703464936,
     "user": {
      "displayName": "Anton Mitrofanov",
      "photoUrl": "https://lh3.googleusercontent.com/a-/AOh14GjNBfbZfmzr7D1pQYvl6zK8SnRI1b9SfK--a0wgVg=s64",
      "userId": "16120628630126186431"
     },
     "user_tz": -180
    },
    "id": "lfwHaMgeKTET"
   },
   "outputs": [],
   "source": [
    "name = \"Единичный скачок\"\n",
    "signals[name] = np.array([1]*40 ,dtype=float) \n",
    "draw_sig(signals[name], name)"
   ]
  },
  {
   "cell_type": "code",
   "execution_count": null,
   "metadata": {},
   "outputs": [],
   "source": [
    "name = \"Синус\"\n",
    "signals[name] = np.sin(np.pi * np.arange(40)/10)\n",
    "draw_sig(signals[name], name)"
   ]
  },
  {
   "cell_type": "code",
   "execution_count": null,
   "metadata": {},
   "outputs": [],
   "source": [
    "name = \"Шум\"\n",
    "signals[name] = np.random.random(40)-0.5\n",
    "draw_sig(signals[name], name)"
   ]
  },
  {
   "cell_type": "markdown",
   "metadata": {
    "id": "jjoFFHBHGSA9"
   },
   "source": [
    "-------------------------------\n",
    "# Преобразование Фурье\n",
    "Прежде, чем перейти к анализу сигналов, надо разобраться, что такое преобразование Фурье. \n",
    "> Преобразование Фурье (символ ℱ) — операция, сопоставляющая одной функции вещественной переменной другую функцию вещественной переменной. Эта новая функция описывает коэффициенты («амплитуды») при разложении исходной функции на элементарные составляющие — гармонические колебания с разными частотами (подобно тому, как музыкальный аккорд может быть выражен в виде суммы музыкальных звуков, которые его составляют). [Wiki](https://ru.wikipedia.org/wiki/%D0%9F%D1%80%D0%B5%D0%BE%D0%B1%D1%80%D0%B0%D0%B7%D0%BE%D0%B2%D0%B0%D0%BD%D0%B8%D0%B5_%D0%A4%D1%83%D1%80%D1%8C%D0%B5)\n",
    "\n"
   ]
  },
  {
   "cell_type": "markdown",
   "metadata": {
    "id": "LdB7XWDzJdEl"
   },
   "source": [
    "Формула прямого дискретного преобразования Фурье (ДПФ, Discrete Fourier Transform, DFT)):\n",
    "$$ X_k = \\sum_{n=0}^{N-1} x_n * e^{2i\\pi k n/N} $$\n"
   ]
  },
  {
   "cell_type": "markdown",
   "metadata": {},
   "source": [
    "# Задание 1 (2 балла)\n",
    "Реализовать дискретное преобразование Фурье. Сравнить с реализацией scipy.fft.fft"
   ]
  },
  {
   "cell_type": "code",
   "execution_count": null,
   "metadata": {
    "executionInfo": {
     "elapsed": 971,
     "status": "ok",
     "timestamp": 1608703464533,
     "user": {
      "displayName": "Anton Mitrofanov",
      "photoUrl": "https://lh3.googleusercontent.com/a-/AOh14GjNBfbZfmzr7D1pQYvl6zK8SnRI1b9SfK--a0wgVg=s64",
      "userId": "16120628630126186431"
     },
     "user_tz": -180
    },
    "id": "0g99XrYxE6Q_"
   },
   "outputs": [],
   "source": [
    "def DFT(x):\n",
    "    # YOUR CODE HERE\n",
    "    \n",
    "    #\n",
    "    raise NotImplementedError()"
   ]
  },
  {
   "cell_type": "code",
   "execution_count": null,
   "metadata": {},
   "outputs": [],
   "source": [
    "def test_DTF(x, transform=DFT):\n",
    "    # Сравнение с библиотекой scipy\n",
    "    scipy_result = scipy.fft.fft(x)\n",
    "    curr_result = transform(x)\n",
    "    if scipy_result.shape != curr_result.shape:\n",
    "        print(\"TEST_FAILED\")\n",
    "        print(f\"Your spectrogram shape is {curr_result.shape}. \"\n",
    "              f\"Scipy spectrogram shape is {scipy_result.shape}\")\n",
    "        return -1\n",
    "    if not np.allclose(curr_result, scipy_result):\n",
    "        print(\"TEST FAILED\")\n",
    "        print(f\"scipy spectrogram: {scipy_result}\")\n",
    "        print(f\"Your DTF spectrogram: {curr_result}\")\n",
    "        print(f\"Average diff is {np.mean(np.abs(scipy_result - curr_result))}\")\n",
    "        return -2\n",
    "    print(\"TEST PASSED\")\n",
    "    return 0\n",
    "\n",
    "for name, sig in signals.items():\n",
    "    print(f\"Checking '{name}'\")\n",
    "    assert test_DTF(sig) == 0, \"Check you implementation\"\n",
    "print(\"All ok!\")"
   ]
  },
  {
   "cell_type": "markdown",
   "metadata": {},
   "source": [
    "Класическое ДПФ имеет существенный недостаток - сложность алгоритма $O(N^2)$. На данный момент существуют чуть более сложные реализации преобразования Фурье, которые избавляются от квадратичной сложности. Например, алгоритм быстрого преобразования Фурье (Fast Fourier Transform, FFT) имеет сложность $O(N log(N))$, что делает его значительно более быстрым на длинных последовательностях. "
   ]
  },
  {
   "cell_type": "markdown",
   "metadata": {},
   "source": [
    "# Задание 1.1* (1 балл)\n",
    "Реализовать быстрое преобразование Фурье. Сравнить с scipy.fft.fft"
   ]
  },
  {
   "cell_type": "code",
   "execution_count": null,
   "metadata": {},
   "outputs": [],
   "source": [
    "def FFT(x):\n",
    "    # YOUR CODE HERE\n",
    "    \n",
    "    #\n",
    "    raise NotImplementedError()"
   ]
  },
  {
   "cell_type": "code",
   "execution_count": null,
   "metadata": {},
   "outputs": [],
   "source": [
    "for name, sig in signals.items():\n",
    "    print(f\"Checking '{name}'\")\n",
    "    assert test_DTF(sig, transform=FFT) == 0, \"Check you implementation\"\n",
    "print(\"All ok!\")"
   ]
  },
  {
   "cell_type": "markdown",
   "metadata": {},
   "source": [
    "# Амплитудный и фазовый спектры\n",
    "Поскольку преобразование Фурье определено в комплекстной области, анализировать результат напрямую проблематично. Для анализа сигналов принято разбивать результат преобразования Фурье на два спектра: амплитудный и фазовый. Амплитудный показывает, как меняется модуль сигнала, а фазовый - как меняется угол, образуемый на комплексной плоскости. \n",
    "# Задание 2 (1 балл)\n",
    "\n",
    "Реализовать функции построения амплитудного и фазового спектра"
   ]
  },
  {
   "cell_type": "code",
   "execution_count": null,
   "metadata": {},
   "outputs": [],
   "source": [
    "#функция построения амплитудного спектра\n",
    "def get_magnitude_from_spec(spec):\n",
    "    # YOUR CODE HERE\n",
    "   \n",
    "    #\n",
    "    raise NotImplementedError()\n",
    "\n",
    "#функция построения фазового спектра\n",
    "def get_phi_from_spec(spec):\n",
    "    # YOUR CODE HERE\n",
    "   \n",
    "    #\n",
    "    raise NotImplementedError()"
   ]
  },
  {
   "cell_type": "code",
   "execution_count": null,
   "metadata": {},
   "outputs": [],
   "source": [
    "def check_mean_var(sig, mean=None, var=None):\n",
    "    if mean is not None and np.mean(sig) != mean:\n",
    "        print(f\"Bad mean. Expected {mean}, got {np.mean(sig)}\")\n",
    "        return False\n",
    "    if var is not None and np.var(sig) != var:\n",
    "        print(f\"Bad var. Expected {var}, got {np.var(sig)}\")\n",
    "        return False\n",
    "    return True\n",
    "\n",
    "_spec = scipy.fft.fft(np.array([1]+[0]*10))\n",
    "assert check_mean_var(get_magnitude_from_spec(_spec), 1.0, 0.0), \\\n",
    "    \"Wrong magnitude\"\n",
    "assert check_mean_var(get_phi_from_spec(_spec), 0.0, 0.0), \\\n",
    "    \"Wrong phase\"\n",
    "\n",
    "    \n",
    "_spec = scipy.fft.fft(np.array([1]*10))\n",
    "assert check_mean_var(get_magnitude_from_spec(_spec), 1.0, 9.0), \\\n",
    "    \"Wrong  magnitude\"\n",
    "assert get_magnitude_from_spec(_spec)[0] == 10, \\\n",
    "    \"Wrong magnitude\"\n",
    "assert get_phi_from_spec(_spec)[0] == 0, \\\n",
    "    \"Wrong phase\"\n",
    "\n",
    "_spec = scipy.fft.fft(scipy.fft.ifft(np.array([0] + [10+5j]+[0]*6 + [10-5j])))\n",
    "assert get_magnitude_from_spec(_spec).round(1)[1] == 11.2 , \\\n",
    "    \"Wrong magnitude. Make sure it is a complex number module.\"\n",
    "assert get_phi_from_spec(_spec).round(1)[1] == 0.5 , \\\n",
    "    \"Wrong phase. Make sure it is an angle.\"\n",
    "\n",
    "   \n",
    "print(\"All OK!\")"
   ]
  },
  {
   "cell_type": "code",
   "execution_count": null,
   "metadata": {},
   "outputs": [],
   "source": [
    "# Определим еще одну функцию для отрисовки\n",
    "# Теперь будем рисовать сигнал в частотной области\n",
    "def draw_spec(spec, name=None, draw_A=True, draw_p=True, figsize=(14, 3)):\n",
    "    if len(spec)<100:\n",
    "        # Рисуем точки как \"леденцы на палочках\"\n",
    "        draw_func = plt.stem\n",
    "    else:\n",
    "        # При большом N \"леденцы\" выглядят плохо, \n",
    "        # Поэтому будем рисовать огибающую функцию\n",
    "        draw_func = plt.plot\n",
    "    \n",
    "    if draw_A:\n",
    "        plt.figure(figsize=figsize)\n",
    "        plt.title(\"Magnitude spectrum\")\n",
    "        spec_A = get_magnitude_from_spec(spec)\n",
    "        draw_func(spec_A)\n",
    "        plt.ylabel(\"Magnitude\")\n",
    "        plt.xlabel(\"n\")\n",
    "        if name is not None:\n",
    "            plt.legend([name])\n",
    "        plt.show()\n",
    "        \n",
    "    if draw_p:\n",
    "        plt.figure(figsize=figsize)\n",
    "        plt.title(\"Phase spectrum\")\n",
    "        phi = get_phi_from_spec(spec)\n",
    "        draw_func(phi)\n",
    "        plt.ylabel(\"Radian\")\n",
    "        plt.xlabel(\"n\")\n",
    "        if name is not None:\n",
    "            plt.legend([name])\n",
    "        plt.show()\n",
    "    return "
   ]
  },
  {
   "cell_type": "markdown",
   "metadata": {},
   "source": [
    "# Задание 2.1 (0.5 балла)\n",
    "Постройте спектры для всех сигналов из коллекции signals и ответьте на вопросы:\n",
    "1. Почему амплитуда всех гармоник единичного импульса равна единице? \n",
    "1. Какие выводы можно сделать смотря на амплитудный спектр? А на фазовый? \n",
    "1. Как перевести номер отсчета в частоту?  \n",
    "1. Что в фазовом спектре является полезной информацией, а что - шумом? Почему?"
   ]
  },
  {
   "cell_type": "markdown",
   "metadata": {},
   "source": [
    "1. -\n",
    "2. -\n",
    "3. -\n",
    "4. -"
   ]
  },
  {
   "cell_type": "markdown",
   "metadata": {},
   "source": [
    "# Оконное преобразование Фурье\n",
    "Преобразование Фурье делает переход из временной области в частотную, позволяя анализировать составляющие сигнал гармоники. Однако это не всегда удобно. В реальных сигналах зачастую составляющие их гармоники изменяются со временем. Например, каждая буква в слове имеет свой набор основных гармоник, и простое преобразование Фурье не сильно поможет нам определить, что было сказано. Для того, чтобы анализировать такие сигналы, обычно используется [Оконное преобразование Фурье](https://ru.wikipedia.org/wiki/Оконное_преобразование_Фурье). Такое преобразование позволяет анализировать гармоники сигнала в коротких промежутках времени и сохранить временную ось при построении спектрограммы.\n",
    "# Задание 3 (2 балла)\n",
    "Реализовать оконное преобразование Фурье, пользуясь только библиотеками numpy и scipy. Сравнить с librosa.stft\n"
   ]
  },
  {
   "cell_type": "code",
   "execution_count": null,
   "metadata": {},
   "outputs": [],
   "source": [
    "def STFT(x, n_fft=2048, hop_length=512, window='hann'):\n",
    "    #  Short-time Fourier transform\n",
    "    # x - signal\n",
    "    # n_fft - fft window size \n",
    "    # hop_length - step size between ffts\n",
    "    # window - window type. See scipy.signal.get_window\n",
    "    # return spectrogram \n",
    "    \n",
    "    # YOUR CODE HERE\n",
    "    \n",
    "    #\n",
    "    raise NotImplementedError()\n",
    "    "
   ]
  },
  {
   "cell_type": "code",
   "execution_count": null,
   "metadata": {},
   "outputs": [],
   "source": [
    "def test_stft(x, n_fft=2048, hop_length=512, window='hann'):\n",
    "    librosa_result = librosa.stft(x, n_fft=n_fft, hop_length=hop_length, window='hann', center=True)\n",
    "    result = STFT(x, n_fft=n_fft, hop_length=hop_length, window='hann')\n",
    "    if librosa_result.shape != result.shape:\n",
    "        print(f\"Your shape {result.shape} != librosa stft shape {librosa_result.shape} \")\n",
    "        return -1 \n",
    "    if not np.allclose(librosa_result, result):\n",
    "        print(f\"Wrong results. Diff {np.abs(librosa_result-result)}\")\n",
    "        return -2\n",
    "    return 0\n",
    "        \n",
    "for name, sig in signals.items():\n",
    "    print(f\"Checking '{name}'\")\n",
    "    for n_fft in (8, 4):\n",
    "        for hop_length in (n_fft//4, n_fft//2):\n",
    "            assert test_stft(sig, n_fft=n_fft, hop_length=hop_length)==0, \\\n",
    "                f\"Test failed. Params n_fft {n_fft}. Hop_length {hop_length}\"\n",
    "    print(\"ok\")\n",
    "print(\"All ok!\")"
   ]
  },
  {
   "cell_type": "code",
   "execution_count": null,
   "metadata": {},
   "outputs": [],
   "source": [
    "# Определим функцию для отрисовки\n",
    "def draw_stft(X, sr, figsize=(14, 5)):\n",
    "    plt.figure(figsize=figsize)\n",
    "    # X - комплекстная спектрограмма \n",
    "    # Для получения энергии достаточно взять модуль\n",
    "    Xdb = librosa.amplitude_to_db(abs(X))\n",
    "    librosa.display.specshow(Xdb, sr=sr, x_axis='time', y_axis='hz')\n",
    "    plt.show()"
   ]
  },
  {
   "cell_type": "markdown",
   "metadata": {},
   "source": [
    "# Анализ сигналов\n",
    "Теперь можно приступить к анализу звуковых сигналов.\n",
    "Во время анализа сигналов нам понадобятся все определенные выше инструменты. \n"
   ]
  },
  {
   "cell_type": "markdown",
   "metadata": {},
   "source": [
    "----------------------------------\n",
    "## Анализ паровозного гудка\n",
    "Начнем с простого сигнала, состоящего из нескольких основных гармоник и шума."
   ]
  },
  {
   "cell_type": "code",
   "execution_count": null,
   "metadata": {},
   "outputs": [],
   "source": [
    "# Загрузим аудио файл с паровозным гудком\n",
    "train_whistle, tw_sr = librosa.core.load(\"resources/train_whistle.wav\")\n",
    "print(f\"Len is {len(train_whistle)} ( ). Sample rate is {tw_sr}\")\n",
    "player = ipd.Audio(train_whistle, rate=tw_sr)\n",
    "ipd.display(player)\n",
    "draw_waveform(train_whistle, sr=tw_sr)"
   ]
  },
  {
   "cell_type": "code",
   "execution_count": null,
   "metadata": {},
   "outputs": [],
   "source": [
    "train_whistle_spec = scipy.fft.fft(train_whistle)\n",
    "print(\"Гудок паровоза в частотной области\")\n",
    "draw_spec(train_whistle_spec, draw_p=False, figsize=(15,5))"
   ]
  },
  {
   "cell_type": "markdown",
   "metadata": {},
   "source": [
    "# Задание 4 (2 балла)\n",
    "Определите 3 основные гармоники паровозного гудка.\n",
    "\n",
    "Ответ округлите до двух знаков после запятой.\n"
   ]
  },
  {
   "cell_type": "code",
   "execution_count": null,
   "metadata": {},
   "outputs": [],
   "source": [
    "# YOUR CODE HERE\n",
    "# task_answer = [ freq1, freq2, freq3 ] \n"
   ]
  },
  {
   "cell_type": "code",
   "execution_count": null,
   "metadata": {},
   "outputs": [],
   "source": [
    "assert type(task_answer) == list or type(task_answer) == np.ndarray, \\\n",
    "        f\"Wrong answer type. Expected list or numpy array. Got {type(task_answer)}\"\n",
    "assert len(task_answer) == 3, \\\n",
    "        f\"Wrong len {len(task_answer)}.\"\n",
    "assert round(sum(task_answer)) == 1677 and round(np.var(task_answer)) == 1407, \\\n",
    "        f\"Wrong freqs\"\n",
    "print(\"Correct!\")       "
   ]
  },
  {
   "cell_type": "markdown",
   "metadata": {},
   "source": [
    "Теперь попробуйте сгенерировать сигнал, состоящий только из этих гармоник. Воспроизведите сигнал."
   ]
  },
  {
   "cell_type": "code",
   "execution_count": null,
   "metadata": {},
   "outputs": [],
   "source": [
    "#YOUR CODE HERE\n",
    "\n",
    "#"
   ]
  },
  {
   "cell_type": "markdown",
   "metadata": {},
   "source": [
    "# Анализ двухтонального многочастотного сигнала\n",
    "Теперь расмотрим более сложный сигнал - [DTMF](https://en.wikipedia.org/wiki/Dual-tone_multi-frequency_signaling). Такие сигналы используются для автоматизации набора телефонного номера. "
   ]
  },
  {
   "cell_type": "markdown",
   "metadata": {},
   "source": [
    "# Задание 5 (2 балла)\n",
    "В данном аудио закодирован трехзначный номер. Используя таблицу с [wiki]:(https://ru.wikipedia.org/wiki/DTMF) определите, что за номер закодирован.\n"
   ]
  },
  {
   "cell_type": "code",
   "execution_count": null,
   "metadata": {},
   "outputs": [],
   "source": [
    "#dtmf.wav\n",
    "dtmf, dtmf_sr = librosa.core.load(\"resources/dtmf.wav\")\n",
    "print(f\"Len is {len(dtmf)}. Sample rate is {dtmf_sr}\")\n",
    "player = ipd.Audio(dtmf, rate=dtmf_sr)\n",
    "ipd.display(player)\n",
    "draw_waveform(dtmf, sr=dtmf_sr)"
   ]
  },
  {
   "cell_type": "code",
   "execution_count": null,
   "metadata": {},
   "outputs": [],
   "source": [
    "# YOUR CODE HERE\n",
    "# phone_number = [first: int, second: int, third: int]\n"
   ]
  },
  {
   "cell_type": "code",
   "execution_count": null,
   "metadata": {},
   "outputs": [],
   "source": [
    "assert type(phone_number) == list or type(phone_number) == np.ndarray, \\\n",
    "        f\"Wrong answer type. Expected list or numpy array. Got {type(phone_number)}\"\n",
    "assert len(phone_number) == 3, \\\n",
    "        f\"Wrong len {len(phone_number)}.\"\n",
    "assert round(np.mean(phone_number)) == 5 and round(np.var(phone_number)) == 11 , \\\n",
    "        f\"Wrong number\"\n",
    "assert hashlib.md5(''.join(map(str, phone_number)).encode()).hexdigest() == \"140f6969d5213fd0ece03148e62e461e\", \\\n",
    "        f\"Wrong hash. How did you pass mean/var test?\"\n",
    "print(\"Correct!\")   "
   ]
  }
 ],
 "metadata": {
  "colab": {
   "authorship_tag": "ABX9TyMWEpjLxJ4vDP9DKg0jh9VS",
   "name": "lab2.ipynb",
   "provenance": []
  },
  "kernelspec": {
   "display_name": "Python 3",
   "language": "python",
   "name": "python3"
  },
  "language_info": {
   "codemirror_mode": {
    "name": "ipython",
    "version": 3
   },
   "file_extension": ".py",
   "mimetype": "text/x-python",
   "name": "python",
   "nbconvert_exporter": "python",
   "pygments_lexer": "ipython3",
   "version": "3.7.7"
  }
 },
 "nbformat": 4,
 "nbformat_minor": 1
}
