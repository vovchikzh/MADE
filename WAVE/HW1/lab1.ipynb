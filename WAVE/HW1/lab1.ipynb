{
 "cells": [
  {
   "cell_type": "markdown",
   "metadata": {},
   "source": [
    "# <center> Практические задания по цифровой обработке сигналов </center>\n",
    "# <center> Первая лабораторная работа </center>\n"
   ]
  },
  {
   "cell_type": "markdown",
   "metadata": {},
   "source": [
    "В данной работе Вы познакомитесь с основными методами работы с аудиоданными в Python. Разбересь в том, как работает свертка, и примените пару интересных фильтров."
   ]
  },
  {
   "cell_type": "markdown",
   "metadata": {},
   "source": [
    "# Задание 1. Работа с аудиофайлами в Python (1 балл)"
   ]
  },
  {
   "cell_type": "markdown",
   "metadata": {},
   "source": [
    "## Теория\n",
    "\n",
    "Звук - это аналоговый сигнал. То есть он является непрерывным по времени и по значениям. Для того, чтобы работать со звуком на цифровом устройстве, надо преобразовать его в цифровое представление. Для этого надо разделить непрерывный сигнал на промежутки времени (дискретизация сигнала) и разбить непрерывные значения на интервалы (квантование сигнала). Выбраные параметры дискретизации и квантования сигнала напрямую влияют на качество цифрового сигнала. \n",
    "\n",
    "\n",
    "## Практика\n",
    "\n",
    "1. Что хранится в .wav файле? Как узнать параметры дискретизации и квантования .wav файла? \n",
    "\n",
    "2. Запишите аудиофайл со своим голосом. Загрузите его. Попробуйте поменять ему частоту дискретизации. Нарисуйте форму волны считанного файла. Воспроизведите полученные сигналы. При какой частоте дискретизации становится невозможно разобрать человеческую речь?   \n",
    "\n",
    "3. Чем .wav отличается от других кодеков, например .mp3 или .ogg?\n",
    "\n",
    "\n",
    "### Подсказка\n",
    "\n",
    "Записать цифровой сигнал можно при помощи, например, [Audacity](https://www.audacityteam.org) или [Adobe Audition](https://www.adobe.com/ru/products/audition.html). Для считывания файлов воспользуйтесь библиотекой [scipy](https://www.scipy.org) или [librosa](https://librosa.org/doc/latest/index.html). Для воспроизведения аудиофайла удобно использовать класс Audio из модуля IPython.display, а для отрисовки - matplotlib."
   ]
  },
  {
   "cell_type": "code",
   "execution_count": null,
   "metadata": {},
   "outputs": [],
   "source": [
    "import matplotlib.pyplot as plt \n",
    "import numpy as np\n",
    "%matplotlib inline"
   ]
  },
  {
   "cell_type": "code",
   "execution_count": null,
   "metadata": {
    "ExecuteTime": {
     "end_time": "2021-01-25T10:23:49.909497Z",
     "start_time": "2021-01-25T10:23:49.907091Z"
    }
   },
   "outputs": [],
   "source": [
    "# YOUR CODE HERE"
   ]
  },
  {
   "cell_type": "markdown",
   "metadata": {},
   "source": [
    "2. -YOUR ANSWER HERE -\n",
    "3. -YOUR ANSWER HERE -"
   ]
  },
  {
   "cell_type": "markdown",
   "metadata": {},
   "source": [
    "# Задание 2. Гармонические сигналы (1 балл)"
   ]
  },
  {
   "cell_type": "markdown",
   "metadata": {},
   "source": [
    "## Теория\n",
    "[Гармонические колебания](https://ru.wikipedia.org/wiki/Гармонические_колебания) -  колебания, при которых физическая величина изменяется с течением времени по гармоническому (синусоидальному/косинусоидальному) закону. \n",
    "\n",
    "В общем случае гармонические колебания задаются формулой:\n",
    "\n",
    "$$y=A \\cos(\\omega t+\\varphi_0)$$\n",
    "\n",
    "где $А$ - это амплитуда, $\\omega$ – циклическая частота (радиан/с), $\\varphi$ - фаза (сдвиг), $t$ – время. \n"
   ]
  },
  {
   "cell_type": "code",
   "execution_count": null,
   "metadata": {
    "ExecuteTime": {
     "end_time": "2021-01-25T10:53:42.877034Z",
     "start_time": "2021-01-25T10:53:42.461660Z"
    }
   },
   "outputs": [],
   "source": [
    "# Сначала определим функцию для отрисовки сигнала с хорошим масштабом и сеткой\n",
    "# Это поможет легче анализировать сигнал\n",
    "def draw_signal(data, figsize=(14, 14)):\n",
    "    plt.figure(figsize=figsize)\n",
    "    plt.plot(data, linewidth=2)\n",
    "    plt.minorticks_on()\n",
    "    plt.xticks(np.arange(0, 1000, step=100))\n",
    "    plt.yticks(np.arange((data.min().round())//10*10, \n",
    "                         (data.max().round())//10*10+10, step=5))\n",
    "    plt.grid(which='major',\n",
    "        color = 'k', \n",
    "        linewidth = 1)\n",
    "    plt.grid(which='minor', \n",
    "        color = 'k', \n",
    "        linestyle = ':')\n",
    "    plt.show()"
   ]
  },
  {
   "cell_type": "code",
   "execution_count": null,
   "metadata": {
    "ExecuteTime": {
     "end_time": "2021-01-25T10:53:18.422257Z",
     "start_time": "2021-01-25T10:53:18.358676Z"
    }
   },
   "outputs": [],
   "source": [
    "# Читаем данные с подготовленными сигналами\n",
    "import pickle\n",
    "with open(\"resources/data.pickle\", \"rb\") as f:\n",
    "    test_data = pickle.load(f)\n",
    "# Теперь можно приступать к практике!"
   ]
  },
  {
   "cell_type": "markdown",
   "metadata": {},
   "source": [
    "## Практика\n",
    "\n",
    "Постройте графики трех сигналов a, b и c из test_data['task2']. Попробуйте подобрать коэффициенты для этих сигналов. Сгенерируйте сигналы (1000 отсчетов) с подобранными коэффициентами. Постройте графики сгенерированных сигналов и пройдите тест на схожесть с оригинальным.\n",
    "\n",
    "\n",
    "Подсказка. Фаза, период и амплитуда сигнала - целочисленные. Для генерации пользуйтесь библиотекой numpy и функциями arange, sin, cos."
   ]
  },
  {
   "cell_type": "code",
   "execution_count": null,
   "metadata": {},
   "outputs": [],
   "source": [
    "draw_signal(test_data['task2']['a'])"
   ]
  },
  {
   "cell_type": "code",
   "execution_count": null,
   "metadata": {},
   "outputs": [],
   "source": [
    "# YOUR CODE HERE\n",
    "a = "
   ]
  },
  {
   "cell_type": "code",
   "execution_count": null,
   "metadata": {},
   "outputs": [],
   "source": [
    "draw_signal(a)"
   ]
  },
  {
   "cell_type": "code",
   "execution_count": null,
   "metadata": {},
   "outputs": [],
   "source": [
    "assert len(a) == 1000\n",
    "assert np.allclose(a, test_data[\"task2\"][\"a\"], atol=1)\n",
    "print(\"Ok!\")"
   ]
  },
  {
   "cell_type": "code",
   "execution_count": null,
   "metadata": {},
   "outputs": [],
   "source": [
    "draw_signal(test_data['task2']['b'])"
   ]
  },
  {
   "cell_type": "code",
   "execution_count": null,
   "metadata": {},
   "outputs": [],
   "source": [
    "# YOUR CODE HERE\n",
    "b = "
   ]
  },
  {
   "cell_type": "code",
   "execution_count": null,
   "metadata": {},
   "outputs": [],
   "source": [
    "assert len(b)== 1000\n",
    "assert np.allclose(b, test_data[\"task2\"][\"b\"], atol=1)\n",
    "print(\"Ok!\")"
   ]
  },
  {
   "cell_type": "code",
   "execution_count": null,
   "metadata": {},
   "outputs": [],
   "source": [
    "draw_signal(test_data['task2']['c'])"
   ]
  },
  {
   "cell_type": "code",
   "execution_count": null,
   "metadata": {},
   "outputs": [],
   "source": [
    "# сигнал состоит из двух гармоник\n",
    "# YOUR CODE HERE\n",
    "c = "
   ]
  },
  {
   "cell_type": "code",
   "execution_count": null,
   "metadata": {},
   "outputs": [],
   "source": [
    "assert len(c)== 1000\n",
    "assert np.allclose(c, test_data[\"task2\"][\"c\"], atol=1)\n",
    "print(\"Ok!\")"
   ]
  },
  {
   "cell_type": "markdown",
   "metadata": {},
   "source": [
    "# Задание 3. Свертка (3 балла)"
   ]
  },
  {
   "cell_type": "markdown",
   "metadata": {},
   "source": [
    "## Теория\n",
    "Одна из наиболее частых операций, которая выполняется при обработке сигналов, это свёртка. Свёртка имеет много различных применений, например, с ее помощью можно убрать из сигнала шумы или применить к сигналу эффект эхо.\n",
    "\n",
    "\n",
    "Свёртка — это математическая операция, применённая к двум функциям f и g и порождающая третью функцию. Операцию свёртки можно интерпретировать как «схожесть» одной функции с отражённой и сдвинутой копией другой.  Другими словами, преобразование свёртки однозначно определяет выходной сигнал y(t) для установленного значения входного сигнала x(t) при известном значении функции импульсного отклика системы h(t).\n",
    "\n",
    "![Convolution](resources/Convolution_of_box_signal_with_itself2.gif \"Convolution\")\n",
    "\n",
    "Формула свёртки:\n",
    "$$y_t=\\frac{1}{2} \\int_0^T x(\\tau)h(t-τ)dτ$$\n",
    "где $\\tau$  - длительность импульсной переходной характеристики.\n",
    "\n",
    "## Практика\n",
    "Реализуйте операцию свёртки. Сравните её с существующей реализацией scipy.signal.convolve. Постройте графики фильтра, исходного сигнала и результата свертки."
   ]
  },
  {
   "cell_type": "code",
   "execution_count": null,
   "metadata": {},
   "outputs": [],
   "source": [
    "def convolve(in1, in2):\n",
    "    #YOUR CODE HERE"
   ]
  },
  {
   "cell_type": "code",
   "execution_count": null,
   "metadata": {},
   "outputs": [],
   "source": [
    "def test_convolve(a, b, print_debug=False):\n",
    "    my_result = convolve(a, b)\n",
    "    scipy_result = scipy.signal.convolve(a, b, method='direct')\n",
    "    if print_debug:\n",
    "        print(f\"Your result {my_result}\")\n",
    "        print(f\"Scipy result {scipy_result}\")\n",
    "    assert np.allclose(my_result, scipy_result), f\"Test {a} conv {b} failed\"\n",
    "    print(\"Ok!\")"
   ]
  },
  {
   "cell_type": "code",
   "execution_count": null,
   "metadata": {},
   "outputs": [],
   "source": [
    "a = np.repeat([0,1,0], 10)\n",
    "b = np.array([0,1,2,3,2,1,0])"
   ]
  },
  {
   "cell_type": "code",
   "execution_count": null,
   "metadata": {},
   "outputs": [],
   "source": [
    "# Нарисуйте результат свертки a и b\n",
    "# YOUR CODE HERE"
   ]
  },
  {
   "cell_type": "code",
   "execution_count": null,
   "metadata": {},
   "outputs": [],
   "source": [
    "test_convolve(a, b, print_debug=False)"
   ]
  },
  {
   "cell_type": "markdown",
   "metadata": {},
   "source": [
    "## Задание 4. * Алгоритм Карплуса-Стронга \n",
    "\n",
    "Реализуйте  [Алгоритм Карплуса-Стронга](https://en.wikipedia.org/wiki/Karplus%E2%80%93Strong_string_synthesis). В качестве фильтра используйте усреднитель двух смежных отсчетов. Проверьте результат. \n",
    "\n",
    "Отрисуйте и воспроизведите полученный сигнал. На что влияют параметры генерации? Попробуйте имитировать звучание разных струн гитары."
   ]
  },
  {
   "cell_type": "code",
   "execution_count": null,
   "metadata": {
    "ExecuteTime": {
     "end_time": "2021-01-25T08:33:08.782753Z",
     "start_time": "2021-01-25T08:33:08.777957Z"
    }
   },
   "outputs": [],
   "source": [
    "def karplus_strong(noise, N):\n",
    "    # Noise - input\n",
    "    # N - number of samples to generate\n",
    "    # return y - generated signal based on Noise \n",
    "    # YOUR CODE HERE\n",
    "    #\n",
    "   \n",
    "    #\n",
    "    raise NotImplementedError()"
   ]
  },
  {
   "cell_type": "code",
   "execution_count": null,
   "metadata": {
    "ExecuteTime": {
     "end_time": "2021-01-25T10:07:15.153526Z",
     "start_time": "2021-01-25T10:07:15.052187Z"
    }
   },
   "outputs": [],
   "source": [
    "np.random.seed(seed=1)\n",
    "sample_rate = 44100 \n",
    "frequency = 82.41\n",
    "sec = 2\n",
    "gen_len = sample_rate * sec\n",
    "noise = (2 * np.random.uniform(-1, 1, int(sample_rate/frequency))) # [-1, 1]\n",
    "\n",
    "gen_wav = karplus_strong(noise, gen_len)\n",
    "assert np.allclose(gen_wav[:len(noise)], noise), \"Generated signal must starting with noise\"\n",
    "assert np.allclose(gen_wav[len(noise)], (noise[0])/2), \"Out of range samples eq 0.\"\n",
    "assert np.allclose(gen_wav[len(noise)+1: 2*len(noise)], (noise[:-1] + noise[1:])/2), \\\n",
    "    \"Bad requrent rule( 1 iteration)\"\n",
    "assert np.allclose(gen_wav[2*len(noise)], (noise[0]/2 + noise[-1])/2), \\\n",
    "    \"Bad requrent rule( 2 iteration)\"\n",
    "assert np.allclose(gen_wav[2*len(noise)+2: 3*len(noise)], \\\n",
    "                   (((noise[:-1] + noise[1:])/2)[:-1] + ((noise[:-1] + noise[1:])/2)[1:])/2), \\\n",
    "    \"Bad requrent rule( 3 iteration)\"\n",
    "print('All Ok!')"
   ]
  },
  {
   "cell_type": "code",
   "execution_count": null,
   "metadata": {},
   "outputs": [],
   "source": [
    "# Попробуйте покрутить параметры генерации. \n",
    "# YOUR CODE HERE "
   ]
  }
 ],
 "metadata": {
  "hide_input": false,
  "kernelspec": {
   "display_name": "Python 3",
   "language": "python",
   "name": "python3"
  },
  "language_info": {
   "codemirror_mode": {
    "name": "ipython",
    "version": 3
   },
   "file_extension": ".py",
   "mimetype": "text/x-python",
   "name": "python",
   "nbconvert_exporter": "python",
   "pygments_lexer": "ipython3",
   "version": "3.6.10"
  },
  "toc": {
   "base_numbering": 1,
   "nav_menu": {},
   "number_sections": true,
   "sideBar": true,
   "skip_h1_title": false,
   "title_cell": "Table of Contents",
   "title_sidebar": "Contents",
   "toc_cell": false,
   "toc_position": {},
   "toc_section_display": true,
   "toc_window_display": false
  }
 },
 "nbformat": 4,
 "nbformat_minor": 4
}
